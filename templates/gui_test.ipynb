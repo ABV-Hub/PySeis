{
 "metadata": {
  "name": ""
 },
 "nbformat": 3,
 "nbformat_minor": 0,
 "worksheets": [
  {
   "cells": [
    {
     "cell_type": "raw",
     "metadata": {},
     "source": [
      "<div id=\"radio\">\n",
      "  <input type=\"radio\" id=\"radio1\" name=\"radio\"><label for=\"radio1\">Choice 1</label>\n",
      "  <input type=\"radio\" id=\"radio2\" name=\"radio\" checked=\"checked\"><label for=\"radio2\">Choice 2</label>\n",
      "  <input type=\"radio\" id=\"radio3\" name=\"radio\"><label for=\"radio3\">Choice 3</label>\n",
      "</div>\n",
      "\n",
      "<script>\n",
      "    $(\"#radio\").buttonset();\n",
      "\n",
      "    $('#radio :radio').click(function() {\n",
      "        var kernel = IPython.notebook.kernel;\n",
      "        kernel.execute(\"some_var = '\"+$(this).attr('id')+\"'\");\n",
      "    });\n",
      "</script>\n"
     ]
    },
    {
     "cell_type": "code",
     "collapsed": false,
     "input": [],
     "language": "python",
     "metadata": {},
     "outputs": []
    }
   ],
   "metadata": {}
  }
 ]
}