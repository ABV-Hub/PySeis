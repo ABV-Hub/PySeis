{
 "metadata": {
  "name": ""
 },
 "nbformat": 3,
 "nbformat_minor": 0,
 "worksheets": [
  {
   "cells": [
    {
     "cell_type": "markdown",
     "metadata": {},
     "source": [
      "<div id=\"radio\">\n",
      "  <input type=\"radio\" id=\"radio1\" name=\"radio\"><label for=\"radio1\">Choice 1</label>\n",
      "  <input type=\"radio\" id=\"radio2\" name=\"radio\" checked=\"checked\"><label for=\"radio2\">Choice 2</label>\n",
      "  <input type=\"radio\" id=\"radio3\" name=\"radio\"><label for=\"radio3\">Choice 3</label>\n",
      "  <input type=\"button\" value=\"Click me\" name=\"test\">  this is actually a button\n",
      "</div>\n",
      "\n",
      "<script>\n",
      "    $(\"#radio\").buttonset();\n",
      "\n",
      "    $('#radio :radio').click(function() {\n",
      "        var kernel = IPython.notebook.kernel;\n",
      "        kernel.execute(\"some_var = '\"+$(this).attr('id')+\"'\");\n",
      "    });\n",
      "</script>\n"
     ]
    },
    {
     "cell_type": "code",
     "collapsed": false,
     "input": [
      "print some_var"
     ],
     "language": "python",
     "metadata": {},
     "outputs": [
      {
       "output_type": "stream",
       "stream": "stdout",
       "text": [
        "radio1\n"
       ]
      }
     ],
     "prompt_number": 1
    },
    {
     "cell_type": "markdown",
     "metadata": {},
     "source": [
      "<div style=\"background-color:gainsboro; border:solid black; width:300px; padding:20px;\">\n",
      "Variable Name: <input type=\"text\" id=\"var_name\" value=\"foo\"><br>\n",
      "Variable Value: <input type=\"text\" id=\"var_value\" value=\"bar\"><br>\n",
      "<button onclick=\"set_value()\">Set Value</button>\n",
      "</div>\n",
      "\n",
      "<script type=\"text/Javascript\">\n",
      "    function set_value(){\n",
      "        var var_name = document.getElementById('var_name').value;\n",
      "        var var_value = document.getElementById('var_value').value;\n",
      "        var command = var_name + \" = '\" + var_value + \"'\";\n",
      "        console.log(\"Executing Command: \" + command);\n",
      "        \n",
      "        var kernel = IPython.notebook.kernel;\n",
      "        kernel.execute(command);\n",
      "    }\n",
      "</script>\n"
     ]
    },
    {
     "cell_type": "code",
     "collapsed": false,
     "input": [],
     "language": "python",
     "metadata": {},
     "outputs": []
    }
   ],
   "metadata": {}
  }
 ]
}