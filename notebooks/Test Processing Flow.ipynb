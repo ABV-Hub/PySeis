{
 "cells": [
  {
   "cell_type": "code",
   "execution_count": 22,
   "metadata": {
    "collapsed": false
   },
   "outputs": [
    {
     "name": "stdout",
     "output_type": "stream",
     "text": [
      "binary  Line_001.RPS  Line_001.SPS  Line_001.XPS\n",
      "header  Line_001.sgy  Line_001.TXT  \u001b[0m\u001b[01;34msu\u001b[0m/\n",
      "    key                                : min               max\n",
      "=========================================\n",
      "('tracl', '<i4')                    1.000            71284.000\n",
      "('fldr', '<i4')                     231.000          481.000\n",
      "('tracf', '<i4')                    -1.000           282.000\n",
      "('ep', '<i4')                       32.000           282.000\n",
      "('cdpt', '<i4')                     1.000            284.000\n",
      "('nhs', '<i2')                      1.000            1.000\n",
      "('scalel', '<i2')                   -10000.000       -10000.000\n",
      "('scalco', '<i2')                   -10000.000       -10000.000\n",
      "('counit', '<i2')                   3.000            3.000\n",
      "('ns', '<u2')                       1501.000         1501.000\n",
      "('dt', '<u2')                       2000.000         2000.000\n",
      "('gain', '<i2')                     3.000            3.000\n",
      "('igc', '<i2')                      1.000            1.000\n",
      "('afilf', '<i2')                    207.000          207.000\n",
      "('afils', '<i2')                    298.000          298.000\n",
      "('hcf', '<i2')                      207.000          207.000\n",
      "('hcs', '<i2')                      298.000          298.000\n",
      "('year', '<i2')                     1998.000         1998.000\n",
      "('trace', '<f4', (1501,))           -0.303           1.000\n",
      "=========================================\n"
     ]
    }
   ],
   "source": [
    "import toolbox\n",
    "%ls /home/stewart/su/2d_land_data/2D_Land_data_2ms/\n",
    "file = \"/home/stewart/su/2d_land_data/2D_Land_data_2ms/su/Line_001.su\"\n",
    "#initialise file\n",
    "data, params = toolbox.initialise(file)"
   ]
  },
  {
   "cell_type": "code",
   "execution_count": null,
   "metadata": {
    "collapsed": false
   },
   "outputs": [],
   "source": [
    "#no coordinates in the headers, but we know energy point number and channel.\n",
    "#%cat /home/stewart/su/2d_land_data/2D_Land_data_2ms/Line_001.TXT\n",
    "#%cat /home/stewart/su/2d_land_data/2D_Land_data_2ms/Line_001.SPS\n",
    "#%cat /home/stewart/su/2d_land_data/2D_Land_data_2ms/Line_001.RPS\n",
    "#%cat /home/stewart/su/2d_land_data/2D_Land_data_2ms/header"
   ]
  },
  {
   "cell_type": "code",
   "execution_count": 228,
   "metadata": {
    "collapsed": false,
    "scrolled": true
   },
   "outputs": [
    {
     "name": "stdout",
     "output_type": "stream",
     "text": [
      "Populating the interactive namespace from numpy and matplotlib\n",
      "251 251\n",
      "71284\n"
     ]
    }
   ],
   "source": [
    "import numpy as np\n",
    "from matplotlib import collections\n",
    "%pylab tk\n",
    "def polytrace(data, **kwargs):\n",
    "    segs = []\n",
    "    segl = []\n",
    "    nt =  data.shape[-2]\n",
    "    for i in range(nt):\n",
    "        trace = data[i]\n",
    "        centre = np.round(np.mean(trace[:100]),0).astype(np.int)\n",
    "        line = list(zip(trace, np.arange(1501)))\n",
    "        segl.append(line)           \n",
    "\n",
    "        xx = np.ma.array(trace, mask=(trace <= centre))\n",
    "        yy = np.ma.array(np.arange(0,1501), mask=(trace <= centre))\n",
    "         \n",
    "        curve = [(centre, 0)]\n",
    "        curve.extend(list(zip(xx, yy)))\n",
    "        curve.extend([(centre, 1501)])\n",
    "        \n",
    "        segs.append(curve)\n",
    "        \n",
    "    return segs, segl\n",
    "\n",
    "\n",
    "#first lets do some checks.  does of energy points should equal number of records?\n",
    "print np.unique(data['ep']).size, np.unique(data['fldr']).size\n",
    "#no duplicates - that makes it easier.\n",
    "print 251*284\n",
    "#284 traces per shot, 2 aux traces . lets have a look\n",
    "dmap = np.memmap(file, dtype=toolbox.typeSU(1501), mode='r')\n",
    "eps = np.unique(dmap['ep'])\n",
    "for ep in eps[:1]:\n",
    "    panel = dmap[dmap['ep'] == ep].copy()\n",
    "    panel = toolbox.agc(panel, None, **params)\n",
    "    #print np.amax(panel['trace']), np.amin(panel['trace'])\n",
    "    #pylab.imshow(panel['trace'].T, aspect='auto', vmin=-0.1, vmax=0.1, cmap='Greys')\n",
    "    #pylab.show()\n",
    "\n",
    "    trace_centers = np.linspace(1,284, panel.size).reshape(-1,1)\n",
    "    trace_width = 284/(panel.size*0.5)\n",
    "    buf = panel['trace'].copy()\n",
    "    #buf = np.ma.array(buf, mask=(buf<0))\n",
    "    buf *= trace_width\n",
    "    buf += trace_centers\n",
    "\n",
    "    \n",
    "    \n",
    "    #print buf.flatten()\n",
    "    #print np.meshgrid(np.arange(1501), np.arange(284))[0].flatten()\n",
    "    segs, selg = polytrace(buf)\n",
    "    fig = pylab.figure()\n",
    "    ax = fig.add_subplot(111)\n",
    "    offs = (0.1, 0.0)\n",
    "    col = collections.PolyCollection(segs, offsets=offs)\n",
    "    col.set_color('k')\n",
    "    col1 = collections.LineCollection(segl, offsets=offs)\n",
    "    col1.set_color('k')\n",
    "    ax.add_collection(col, autolim=True)\n",
    "    ax.add_collection(col1, autolim=True)\n",
    "    ax.autoscale_view()\n",
    "    pylab.xlim([0,284])\n",
    "    pylab.ylim([0,1500])\n",
    "    ax.set_ylim(ax.get_ylim()[::-1])\n",
    "    pylab.tight_layout()\n",
    "    pylab.show()\n",
    "\n"
   ]
  },
  {
   "cell_type": "code",
   "execution_count": null,
   "metadata": {
    "collapsed": true
   },
   "outputs": [],
   "source": []
  }
 ],
 "metadata": {
  "kernelspec": {
   "display_name": "Python 2",
   "language": "python",
   "name": "python2"
  },
  "language_info": {
   "codemirror_mode": {
    "name": "ipython",
    "version": 2
   },
   "file_extension": ".py",
   "mimetype": "text/x-python",
   "name": "python",
   "nbconvert_exporter": "python",
   "pygments_lexer": "ipython2",
   "version": "2.7.8"
  }
 },
 "nbformat": 4,
 "nbformat_minor": 0
}
