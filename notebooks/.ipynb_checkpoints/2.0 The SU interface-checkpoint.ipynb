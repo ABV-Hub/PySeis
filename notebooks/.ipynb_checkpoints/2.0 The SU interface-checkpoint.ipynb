{
 "cells": [
  {
   "cell_type": "markdown",
   "metadata": {},
   "source": [
    "# The SU interface\n",
    "## Introduction\n",
    "As discussed in the main introduction a numpy array has been defined which imitates the binary structure of a [Seismic Unix](https://en.wikipedia.org/wiki/Seismic_Unix) (SU) file.  \n",
    "\n",
    "Why an SU file? A number of reasons\n",
    "\n",
    "1. Seismic data is a time series (trace) along with some other information (headers) - for example spatial information (source and geophone coordinates).  If the order of traces needs to be changed for some reason, the order of the headers need to be changed as well.  A separate data structure can be used to track the headers, but it is much simpler to combine the header and trace into a single entity.  In numpy this is a structured array.  The only difference between an abitrary structured array and an SU structured array is the headers are pre-defined by a standard.  \n",
    "2. SU has been around since the 70s.  It is maintained by [CWP](http://www.cwp.mines.edu/) and is compatible with a range of software packages, for example [Madagascar](http://www.ahay.org/wiki/Main_Page). The existance of other software packages that support the file type means that PySeis can lean on these other packages for features which are not yet available, as well as cross-check results against mature software.\n",
    "3. The SU file is essentially a subset of a [SEGY](https://en.wikipedia.org/wiki/SEG_Y) (an industry standard) file with some minor changes. One of those changes, the use of IEEE floats instead of [IBM floats](https://en.wikipedia.org/wiki/IBM_Floating_Point_Architecture#Special_uses), is why SU files play well with python.  A SEGY-python interface requires an IBM/IEEE conversion, not to mention a EBCDIC decoder. Converstions exist, and are available in PySeis, but SU is just so much simpler...\n",
    "4. Simpler is easier to teach.  Understanding the structure of an SU file leads to an understanding of the associated numpy structured array. \n",
    "\n",
    "So why not just use SU directly?\n",
    "\n",
    "1. Because I have to teach to students using windows computers to which we dont have administrative rights.\n",
    "2. Because SU is mature code, written in C, and is heavily optimised. Writing new modules for seismic unix natively is not really possible without a strong coding background. A PySeis module can be written in 3 lines (excluding the type definition). A PySeis module which can be inserted into a seismic unix flow can be written in 5 lines. It can be taught to students in a few minutes.\n",
    "3. SU exists as a standalone software package, developed by a dedicated, but small group.  Python is [not](https://wiki.python.org/moin/OrganizationsUsingPython). You get much, much more out of the box once you move to python.\n",
    "\n",
    "What are some of the downsides of using Python?\n",
    "\n",
    "1. Python has performance issues.  It can be optimised, but that generally breaks the readability\n",
    "2. It's a moving target. Programs often depend upon the correct dependencies being pre-installed\n",
    "3. The [GIL](https://en.wikipedia.org/wiki/Global_interpreter_lock). Yuck.\n",
    "\n",
    "\n",
    "\n",
    "\n"
   ]
  },
  {
   "cell_type": "markdown",
   "metadata": {},
   "source": [
    "## The SU file\n",
    "\n",
    "All data on computers is stored as ones and zeros. each one or zero is referred to as a bit. A group of 8 bits (an 8 bit \"word\") is referred to as a byte.\n",
    "\n",
    "Repeat after me. 8 bits to a byte. 8 bits to a byte. 8 bits to a byte...\n",
    "\n",
    "The actual order of the ones and zeros, the 'encoding', depends on it's [type](https://en.wikipedia.org/wiki/Data_type). Whole numbers (integers) such as 1, 2, 3 and 4 are easy - they are stored as the direct binary equivalent. Generally, 4 bytes are allocated to store each integer  - that is, 32 bits.  Thus, there are 2^32 possible combinations available.  If you dont care about negative numbers, these can all be positive (unsigned).  But generally we want both positive and negative numbers (signed).\n",
    "\n"
   ]
  },
  {
   "cell_type": "code",
   "execution_count": 33,
   "metadata": {
    "collapsed": false
   },
   "outputs": [
    {
     "name": "stdout",
     "output_type": "stream",
     "text": [
      "unsigned (positive numbers only) 2^32 =  4294967296\n",
      "signed (positive and negative numnbers) 2^32/2.0 -1 =  2147483647\n",
      "the binary representation of 0 is  0b0\n",
      "the binary representation of 2^32-1 (signed) is  0b1111111111111111111111111111111\n"
     ]
    }
   ],
   "source": [
    "print \"unsigned (positive numbers only) 2^32 = \", 2**32\n",
    "print 'signed (positive and negative numnbers) 2^32/2.0 -1 = ', 2**32/2-1 #have to account for zero\n",
    "print \"the binary representation of 0 is \", bin(0)\n",
    "print \"the binary representation of 2^32-1 (signed) is \", bin(2**32/2-1)"
   ]
  },
  {
   "cell_type": "markdown",
   "metadata": {},
   "source": [
    "Numbers with decimal points are refered to as floats (floating point numbers) or reals (numbers).  Obviously if you're working with ones and zeros, you cant really store a decimal point.  So special encodings are used, for example [IEEE floats](https://en.wikipedia.org/wiki/IEEE_floating_point). \n",
    "\n",
    "These numbers do not *have* to be 4 bytes.  If you know you dont need 2^32 integers, you can use 2 bytes (2^16). If 32 bits isnt enough, you can use 64.  (2^64).  "
   ]
  }
 ],
 "metadata": {
  "kernelspec": {
   "display_name": "Python 2",
   "language": "python",
   "name": "python2"
  },
  "language_info": {
   "codemirror_mode": {
    "name": "ipython",
    "version": 2
   },
   "file_extension": ".py",
   "mimetype": "text/x-python",
   "name": "python",
   "nbconvert_exporter": "python",
   "pygments_lexer": "ipython2",
   "version": "2.7.8"
  }
 },
 "nbformat": 4,
 "nbformat_minor": 0
}
