{
 "cells": [
  {
   "cell_type": "markdown",
   "metadata": {},
   "source": [
    "# Introduction to Pyseis.\n",
    "\n",
    "## Background\n",
    "\n",
    "I was trying to edit some SU file headers in Seismic Unix.  If you've ever used [suchw](http://www.cwp.mines.edu/sututor/node57.html) you will know it is not the most intuitive module.  So I started playing around with [struct](https://docs.python.org/2/library/struct.html) in order to pull the seismic unix file into python, and kind of fell by accident into numpy's [structured arrays](http://docs.scipy.org/doc/numpy/user/basics.rec.html).  I never looked back.\n",
    "\n",
    "If you're not familiar with structured arrays they allow you to define a [numpy data type](http://docs.scipy.org/doc/numpy/reference/arrays.dtypes.html) with various fields.  Each field can have its own type - short, long, unsigned, signed, integer, float, etc.  \n",
    "\n",
    "Put together a data type with fields that match the seismic unix 240 byte header, add the trace data as another field and all of a sudden you have a direct interface between a seismic unix file and numpy. Reading a seismic unix file becomes as simple as \n",
    "```python\n",
    "dataset = numpy.fromfile('dataset.su', dtype=su)\n",
    "```\n",
    "and editting headers becomes as simple as\n",
    "```python\n",
    "dataset['cdp'] = (dataset['sx'] + dataset['gx'])/2.0\n",
    "```\n",
    "Of course, this is just the tip of the iceberg.  The seismic dataset is now a numpy array, and the full suite of python tools, including numpy, scipy, pandas etc are on tap.  Consider the following example:\n",
    "```python\n",
    "import numpy as np\n",
    "data = np.fromfile('raw.su', type=su)\n",
    "data['cdp'] = (data['sx'] + data['gx'])/2.0\n",
    "cdps = np.sort(data, order['cdp', 'offset'])\n",
    "fft = np.fft.rfft(cdps)\n",
    "fft[0] = 0\n",
    "cleaned = np.fft.irfft(fft)\n",
    "cleaned.tofile('cleaned.su')\n",
    "```\n",
    "In 8 lines the dataset is imported from disc, the header word CDP is set, the dataset is sorted into cdp/offset, has any DC bias removed in the frequency domain, and is written to disc. The only thing in that code block that is not off-the-shelf python is the dtype definition `type=su`.\n",
    "\n",
    "Like I said, I never looked back.\n",
    "\n",
    "## Goals\n",
    "\n",
    "I very quickly build up a collection of python code which could be used in conjunction with seismic unix.  \n",
    "\n"
   ]
  },
  {
   "cell_type": "markdown",
   "metadata": {},
   "source": []
  }
 ],
 "metadata": {
  "kernelspec": {
   "display_name": "Python 2",
   "language": "python",
   "name": "python2"
  },
  "language_info": {
   "codemirror_mode": {
    "name": "ipython",
    "version": 2
   },
   "file_extension": ".py",
   "mimetype": "text/x-python",
   "name": "python",
   "nbconvert_exporter": "python",
   "pygments_lexer": "ipython2",
   "version": "2.7.6"
  }
 },
 "nbformat": 4,
 "nbformat_minor": 0
}
